{
 "cells": [
  {
   "cell_type": "markdown",
   "metadata": {},
   "source": [
    "Need: Greater than/less than scenarios, Multiple True/False decisions"
   ]
  },
  {
   "cell_type": "markdown",
   "metadata": {},
   "source": [
    "# Binary Tree"
   ]
  },
  {
   "cell_type": "markdown",
   "metadata": {},
   "source": [
    "Each node has max two children"
   ]
  },
  {
   "cell_type": "code",
   "execution_count": 1,
   "metadata": {},
   "outputs": [],
   "source": [
    "class BinaryTree(object):\n",
    "    def __init__(self,value):\n",
    "        self.value = value\n",
    "        self.left = None\n",
    "        self.right = None\n",
    "        self.parent = None\n",
    "    def setleftNode(self,node):\n",
    "        self.left = node\n",
    "        node.parent = self.value\n",
    "    def setrightNode(self,node):\n",
    "        self.right = node\n",
    "        node.parent = self.value\n",
    "    def getValue(self):\n",
    "        return self.value\n",
    "    def getleftNode(self):\n",
    "        return self.left\n",
    "    def getrightNode(self):\n",
    "        return self.right\n",
    "    def getparent(self):\n",
    "        return self.parent\n",
    "    def __str__(self):\n",
    "        self.value"
   ]
  },
  {
   "cell_type": "code",
   "execution_count": 2,
   "metadata": {},
   "outputs": [],
   "source": [
    "n5 = BinaryTree(5)\n",
    "n2 = BinaryTree(2)\n",
    "n1 = BinaryTree(1)\n",
    "n4 = BinaryTree(4)\n",
    "n8 = BinaryTree(8)\n",
    "n6 = BinaryTree(6)\n",
    "n7 = BinaryTree(7)"
   ]
  },
  {
   "cell_type": "code",
   "execution_count": 3,
   "metadata": {},
   "outputs": [],
   "source": [
    "n5.setleftNode(n2)\n",
    "n5.setrightNode(n8)\n",
    "n2.setleftNode(n1)\n",
    "n2.setrightNode(n4)\n",
    "n8.setleftNode(n6)\n",
    "n6.setrightNode(n7)"
   ]
  },
  {
   "cell_type": "code",
   "execution_count": 4,
   "metadata": {},
   "outputs": [],
   "source": [
    "n5.getValue()"
   ]
  },
  {
   "cell_type": "code",
   "execution_count": 5,
   "metadata": {},
   "outputs": [
    {
     "data": {
      "text/plain": [
       "2"
      ]
     },
     "execution_count": 5,
     "metadata": {},
     "output_type": "execute_result"
    }
   ],
   "source": [
    "n5.getleftNode().getValue()"
   ]
  },
  {
   "cell_type": "code",
   "execution_count": 6,
   "metadata": {},
   "outputs": [
    {
     "data": {
      "text/plain": [
       "5"
      ]
     },
     "execution_count": 6,
     "metadata": {},
     "output_type": "execute_result"
    }
   ],
   "source": [
    "n2.getparent()"
   ]
  },
  {
   "cell_type": "code",
   "execution_count": 7,
   "metadata": {},
   "outputs": [
    {
     "data": {
      "text/plain": [
       "6"
      ]
     },
     "execution_count": 7,
     "metadata": {},
     "output_type": "execute_result"
    }
   ],
   "source": [
    "n8.getleftNode().getValue()"
   ]
  },
  {
   "cell_type": "code",
   "execution_count": 8,
   "metadata": {},
   "outputs": [
    {
     "ename": "AttributeError",
     "evalue": "'NoneType' object has no attribute 'getValue'",
     "output_type": "error",
     "traceback": [
      "\u001b[1;31m---------------------------------------------------------------------------\u001b[0m",
      "\u001b[1;31mAttributeError\u001b[0m                            Traceback (most recent call last)",
      "\u001b[1;32m<ipython-input-8-8ecac7a4f441>\u001b[0m in \u001b[0;36m<module>\u001b[1;34m\u001b[0m\n\u001b[1;32m----> 1\u001b[1;33m \u001b[0mn8\u001b[0m\u001b[1;33m.\u001b[0m\u001b[0mgetrightNode\u001b[0m\u001b[1;33m(\u001b[0m\u001b[1;33m)\u001b[0m\u001b[1;33m.\u001b[0m\u001b[0mgetValue\u001b[0m\u001b[1;33m(\u001b[0m\u001b[1;33m)\u001b[0m\u001b[1;33m\u001b[0m\u001b[1;33m\u001b[0m\u001b[0m\n\u001b[0m",
      "\u001b[1;31mAttributeError\u001b[0m: 'NoneType' object has no attribute 'getValue'"
     ]
    }
   ],
   "source": [
    "n8.getrightNode().getValue()"
   ]
  },
  {
   "cell_type": "code",
   "execution_count": 9,
   "metadata": {},
   "outputs": [
    {
     "data": {
      "text/plain": [
       "5"
      ]
     },
     "execution_count": 9,
     "metadata": {},
     "output_type": "execute_result"
    }
   ],
   "source": [
    "n8.getparent()"
   ]
  },
  {
   "cell_type": "markdown",
   "metadata": {},
   "source": [
    "# Searching a tree: DFS & BFS"
   ]
  },
  {
   "cell_type": "markdown",
   "metadata": {},
   "source": [
    "DFS: Start with root, \n",
    "at any node if we haven't reached objective, we take left branch first. \n",
    "If we reach a leaf, we back track to the last decision and take right branch, \n",
    "repeat the process\n",
    "\n",
    "BFS: Start with root,\n",
    "Proceed to each child next level in order (left then right),\n",
    "continue till we reach objective"
   ]
  },
  {
   "cell_type": "code",
   "execution_count": 10,
   "metadata": {},
   "outputs": [],
   "source": [
    "def dfstree(root):\n",
    "    stack = [root]\n",
    "    while (len(stack)>0):\n",
    "        temp = stack.pop(0)\n",
    "        print(temp.getValue())\n",
    "        if(temp.getrightNode()):\n",
    "            stack.insert(0,temp.getrightNode())\n",
    "        if(temp.getleftNode()):\n",
    "            stack.insert(0,temp.getleftNode())\n",
    "        "
   ]
  },
  {
   "cell_type": "code",
   "execution_count": 11,
   "metadata": {},
   "outputs": [
    {
     "name": "stdout",
     "output_type": "stream",
     "text": [
      "5\n",
      "2\n",
      "1\n",
      "4\n",
      "8\n",
      "6\n",
      "7\n"
     ]
    }
   ],
   "source": [
    "dfstree(n5)"
   ]
  },
  {
   "cell_type": "code",
   "execution_count": 12,
   "metadata": {},
   "outputs": [],
   "source": [
    "def bfstree(root):\n",
    "    queue = [root]\n",
    "    while len(queue)>0:\n",
    "        temp = queue.pop(0)\n",
    "        print(temp.getValue())\n",
    "        if(temp.getleftNode()):\n",
    "            queue.append(temp.getleftNode())\n",
    "        if(temp.getrightNode()):\n",
    "            queue.append(temp.getrightNode())\n",
    "            "
   ]
  },
  {
   "cell_type": "code",
   "execution_count": 13,
   "metadata": {},
   "outputs": [
    {
     "name": "stdout",
     "output_type": "stream",
     "text": [
      "5\n",
      "2\n",
      "8\n",
      "1\n",
      "4\n",
      "6\n",
      "7\n"
     ]
    }
   ],
   "source": [
    "bfstree(n5)"
   ]
  },
  {
   "cell_type": "code",
   "execution_count": 14,
   "metadata": {},
   "outputs": [
    {
     "name": "stdout",
     "output_type": "stream",
     "text": [
      "2\n",
      "1\n",
      "4\n"
     ]
    }
   ],
   "source": [
    "dfstree(n2)"
   ]
  },
  {
   "cell_type": "code",
   "execution_count": 15,
   "metadata": {},
   "outputs": [
    {
     "name": "stdout",
     "output_type": "stream",
     "text": [
      "2\n",
      "1\n",
      "4\n"
     ]
    }
   ],
   "source": [
    "bfstree(n2)"
   ]
  },
  {
   "cell_type": "markdown",
   "metadata": {},
   "source": [
    "# Searching for a value in the tree"
   ]
  },
  {
   "cell_type": "code",
   "execution_count": 16,
   "metadata": {},
   "outputs": [],
   "source": [
    "def dfssearchtree(root,value):\n",
    "    stack = [root]\n",
    "    while len(stack)>0:\n",
    "        temp = stack.pop(0)\n",
    "        print(\"at Node \" + str(temp.getValue()))\n",
    "        if value == temp.getValue():\n",
    "            return \"found at Node \"+str(temp.getValue())\n",
    "            break\n",
    "        if temp.getrightNode():\n",
    "            stack.insert(0,temp.getrightNode())\n",
    "        if temp.getleftNode():\n",
    "            stack.insert(0,temp.getleftNode())"
   ]
  },
  {
   "cell_type": "code",
   "execution_count": 17,
   "metadata": {},
   "outputs": [
    {
     "name": "stdout",
     "output_type": "stream",
     "text": [
      "at Node 5\n",
      "at Node 2\n",
      "at Node 1\n",
      "at Node 4\n",
      "at Node 8\n",
      "at Node 6\n"
     ]
    },
    {
     "data": {
      "text/plain": [
       "'found at Node 6'"
      ]
     },
     "execution_count": 17,
     "metadata": {},
     "output_type": "execute_result"
    }
   ],
   "source": [
    "dfssearchtree(n5,6)"
   ]
  },
  {
   "cell_type": "markdown",
   "metadata": {},
   "source": [
    "# in-order, pre-order and post-order traversal of tree"
   ]
  },
  {
   "cell_type": "code",
   "execution_count": 18,
   "metadata": {},
   "outputs": [],
   "source": [
    "def inorder(root):\n",
    "    if root:\n",
    "        inorder(root.left)\n",
    "        print(root.value)\n",
    "        inorder(root.right)\n",
    "        \n",
    "def preorder(root):\n",
    "    if root:\n",
    "        print(root.value)\n",
    "        preorder(root.left)\n",
    "        preorder(root.right)\n",
    "\n",
    "def postorder(root):\n",
    "    if root:\n",
    "        postorder(root.left)\n",
    "        postorder(root.right)\n",
    "        print(root.value)"
   ]
  },
  {
   "cell_type": "code",
   "execution_count": 19,
   "metadata": {},
   "outputs": [
    {
     "name": "stdout",
     "output_type": "stream",
     "text": [
      "1\n",
      "2\n",
      "4\n",
      "5\n",
      "6\n",
      "7\n",
      "8\n"
     ]
    }
   ],
   "source": [
    "inorder(n5)"
   ]
  },
  {
   "cell_type": "code",
   "execution_count": 20,
   "metadata": {},
   "outputs": [
    {
     "name": "stdout",
     "output_type": "stream",
     "text": [
      "5\n",
      "2\n",
      "1\n",
      "4\n",
      "8\n",
      "6\n",
      "7\n"
     ]
    }
   ],
   "source": [
    "preorder(n5)"
   ]
  },
  {
   "cell_type": "code",
   "execution_count": 21,
   "metadata": {},
   "outputs": [
    {
     "name": "stdout",
     "output_type": "stream",
     "text": [
      "1\n",
      "4\n",
      "2\n",
      "7\n",
      "6\n",
      "8\n",
      "5\n"
     ]
    }
   ],
   "source": [
    "postorder(n5)"
   ]
  },
  {
   "cell_type": "markdown",
   "metadata": {},
   "source": [
    "# Iterative way:  DFS = preorder, BFS with pop() and a list to store temp then reverse of that list is post order."
   ]
  },
  {
   "cell_type": "code",
   "execution_count": 22,
   "metadata": {},
   "outputs": [
    {
     "name": "stdout",
     "output_type": "stream",
     "text": [
      "5\n",
      "2\n",
      "1\n",
      "4\n",
      "8\n",
      "6\n",
      "7\n",
      "-----\n",
      "5\n",
      "2\n",
      "1\n",
      "4\n",
      "8\n",
      "6\n",
      "7\n"
     ]
    }
   ],
   "source": [
    "preorder(n5) \n",
    "print(\"-----\")\n",
    "dfstree(n5)"
   ]
  },
  {
   "cell_type": "code",
   "execution_count": 23,
   "metadata": {},
   "outputs": [],
   "source": [
    "def bfstree(root):\n",
    "    queue = [root]\n",
    "    post = [] #list to store\n",
    "    while len(queue)>0:\n",
    "        temp = queue.pop()  #pop(0) ----> pop()\n",
    "        post.append(temp.getValue()) #storing temp value\n",
    "        if(temp.getleftNode()):\n",
    "            queue.append(temp.getleftNode())\n",
    "        if(temp.getrightNode()):\n",
    "            queue.append(temp.getrightNode())\n",
    "    while len(post)>0:\n",
    "        t = post.pop()\n",
    "        print(t)"
   ]
  },
  {
   "cell_type": "code",
   "execution_count": 24,
   "metadata": {},
   "outputs": [
    {
     "name": "stdout",
     "output_type": "stream",
     "text": [
      "1\n",
      "4\n",
      "2\n",
      "7\n",
      "6\n",
      "8\n",
      "5\n",
      "-----\n",
      "1\n",
      "4\n",
      "2\n",
      "7\n",
      "6\n",
      "8\n",
      "5\n"
     ]
    }
   ],
   "source": [
    "postorder(n5)\n",
    "print(\"-----\")\n",
    "bfstree(n5)"
   ]
  },
  {
   "cell_type": "code",
   "execution_count": 25,
   "metadata": {},
   "outputs": [],
   "source": [
    "def inorder_iterative(root):\n",
    "    stack = []\n",
    "    temp = root\n",
    "    while stack or temp:\n",
    "        if temp:\n",
    "            stack.append(temp)\n",
    "            temp = temp.getleftNode()\n",
    "        else:\n",
    "            temp = stack.pop()\n",
    "            print(temp.getValue())\n",
    "            temp = temp.getrightNode()"
   ]
  },
  {
   "cell_type": "code",
   "execution_count": 26,
   "metadata": {},
   "outputs": [
    {
     "name": "stdout",
     "output_type": "stream",
     "text": [
      "1\n",
      "2\n",
      "4\n",
      "5\n",
      "6\n",
      "7\n",
      "8\n",
      "-----\n",
      "1\n",
      "2\n",
      "4\n",
      "5\n",
      "6\n",
      "7\n",
      "8\n"
     ]
    }
   ],
   "source": [
    "inorder(n5)\n",
    "print(\"-----\")\n",
    "inorder_iterative(n5)"
   ]
  },
  {
   "cell_type": "markdown",
   "metadata": {},
   "source": [
    "# Binary Search Tree (BST) or An Ordered Binary Tree"
   ]
  },
  {
   "cell_type": "markdown",
   "metadata": {},
   "source": [
    "the left node of a root has value less than the root, the right node of the root has value greater than the root. Ordered so BST can not have duplicates"
   ]
  },
  {
   "cell_type": "code",
   "execution_count": 180,
   "metadata": {},
   "outputs": [],
   "source": [
    "class bst(object):\n",
    "    def __init__(self, value):\n",
    "        self.value = value\n",
    "        self.left = None\n",
    "        self.right = None\n",
    "        self.parent = None\n",
    "        \n",
    "    def insert(self, node):\n",
    "        if self.value == None:\n",
    "            self = node\n",
    "        else:\n",
    "            if self.value == node.value:\n",
    "                return \"can't have duplicates\"\n",
    "            elif(self.value>node.value):\n",
    "                if(self.left == None):\n",
    "                    self.left = node\n",
    "                    node.parent = self\n",
    "                else:\n",
    "                    self = self.left\n",
    "                    self.insert(node)   #recursion inside class, have to use self\n",
    "            elif (self.value<node.value): #specify condition rather than using else\n",
    "                if(self.right == None):\n",
    "                    self.right = node\n",
    "                    node.parent = self\n",
    "                else:\n",
    "                    self = self.right\n",
    "                    self.insert(node)\n",
    "            else:\n",
    "                return \"incompatible entry\"\n",
    "                    \n",
    "    def getValue(self):\n",
    "        return self.value\n",
    "    def getleftNode(self):\n",
    "        return self.left\n",
    "    def getrightNode(self):\n",
    "        return self.right\n",
    "    def getparent(self):\n",
    "        return self.parent"
   ]
  },
  {
   "cell_type": "code",
   "execution_count": 181,
   "metadata": {},
   "outputs": [],
   "source": [
    "node5 = bst(5)\n",
    "node2 = bst(2)\n",
    "node1 = bst(1)\n",
    "node4 = bst(4)\n",
    "node8 = bst(8)\n",
    "node6 = bst(6)\n",
    "node7 = bst(7)"
   ]
  },
  {
   "cell_type": "code",
   "execution_count": 182,
   "metadata": {},
   "outputs": [],
   "source": [
    "root = node5"
   ]
  },
  {
   "cell_type": "code",
   "execution_count": 183,
   "metadata": {},
   "outputs": [
    {
     "data": {
      "text/plain": [
       "\"can't have duplicates\""
      ]
     },
     "execution_count": 183,
     "metadata": {},
     "output_type": "execute_result"
    }
   ],
   "source": [
    "root.insert(node5)"
   ]
  },
  {
   "cell_type": "code",
   "execution_count": 184,
   "metadata": {},
   "outputs": [],
   "source": [
    "root.insert(node2)"
   ]
  },
  {
   "cell_type": "code",
   "execution_count": 185,
   "metadata": {},
   "outputs": [],
   "source": [
    "root.insert(node1)"
   ]
  },
  {
   "cell_type": "code",
   "execution_count": 186,
   "metadata": {},
   "outputs": [],
   "source": [
    "root.insert(node4)"
   ]
  },
  {
   "cell_type": "code",
   "execution_count": 187,
   "metadata": {},
   "outputs": [],
   "source": [
    "root.insert(node8)"
   ]
  },
  {
   "cell_type": "code",
   "execution_count": 188,
   "metadata": {},
   "outputs": [],
   "source": [
    "root.insert(node6)"
   ]
  },
  {
   "cell_type": "code",
   "execution_count": 189,
   "metadata": {},
   "outputs": [],
   "source": [
    "root.insert(node7)"
   ]
  },
  {
   "cell_type": "code",
   "execution_count": 192,
   "metadata": {},
   "outputs": [],
   "source": [
    "root.insert(node8)"
   ]
  },
  {
   "cell_type": "code",
   "execution_count": 194,
   "metadata": {},
   "outputs": [
    {
     "name": "stdout",
     "output_type": "stream",
     "text": [
      "5\n",
      "2\n",
      "1\n",
      "4\n",
      "8\n",
      "6\n",
      "7\n"
     ]
    }
   ],
   "source": [
    "dfstree(root)"
   ]
  },
  {
   "cell_type": "markdown",
   "metadata": {},
   "source": [
    "# MEME: Invert a Binary Tree"
   ]
  },
  {
   "cell_type": "code",
   "execution_count": 214,
   "metadata": {},
   "outputs": [],
   "source": [
    "def bfstree(root):\n",
    "    queue=[root]\n",
    "    while(len(queue)>0):\n",
    "        temp = queue.pop(0)\n",
    "        print(temp.getValue())\n",
    "        if(temp.left):\n",
    "            queue.append(temp.left)\n",
    "        if(temp.right):\n",
    "            queue.append(temp.right)"
   ]
  },
  {
   "cell_type": "code",
   "execution_count": 215,
   "metadata": {},
   "outputs": [
    {
     "name": "stdout",
     "output_type": "stream",
     "text": [
      "5\n",
      "2\n",
      "8\n",
      "1\n",
      "4\n",
      "6\n",
      "7\n"
     ]
    }
   ],
   "source": [
    "bfstree(root)"
   ]
  },
  {
   "cell_type": "code",
   "execution_count": 216,
   "metadata": {},
   "outputs": [],
   "source": [
    "def bfstree(root):\n",
    "    queue=[root]\n",
    "    while(len(queue)>0):\n",
    "        temp = queue.pop(0)\n",
    "        print(temp.getValue())\n",
    "        if(temp.right):\n",
    "            queue.append(temp.right)\n",
    "        if(temp.left):\n",
    "            queue.append(temp.left)"
   ]
  },
  {
   "cell_type": "code",
   "execution_count": 217,
   "metadata": {},
   "outputs": [
    {
     "name": "stdout",
     "output_type": "stream",
     "text": [
      "5\n",
      "8\n",
      "2\n",
      "6\n",
      "4\n",
      "1\n",
      "7\n"
     ]
    }
   ],
   "source": [
    "bfstree(root)"
   ]
  },
  {
   "cell_type": "code",
   "execution_count": null,
   "metadata": {},
   "outputs": [],
   "source": []
  }
 ],
 "metadata": {
  "kernelspec": {
   "display_name": "Python 3",
   "language": "python",
   "name": "python3"
  },
  "language_info": {
   "codemirror_mode": {
    "name": "ipython",
    "version": 3
   },
   "file_extension": ".py",
   "mimetype": "text/x-python",
   "name": "python",
   "nbconvert_exporter": "python",
   "pygments_lexer": "ipython3",
   "version": "3.7.4"
  }
 },
 "nbformat": 4,
 "nbformat_minor": 2
}
