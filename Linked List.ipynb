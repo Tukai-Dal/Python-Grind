{
 "cells": [
  {
   "cell_type": "code",
   "execution_count": 2,
   "metadata": {},
   "outputs": [
    {
     "name": "stdout",
     "output_type": "stream",
     "text": [
      "php\n",
      "python\n",
      "bruh\n"
     ]
    }
   ],
   "source": [
    "class Node(object):\n",
    "    def __init__(self, value):\n",
    "        self.value = value\n",
    "        self.next = None\n",
    "\n",
    "class linked_list(object):\n",
    "    def __init__(self):\n",
    "        self.tail = None\n",
    "        self.head = None\n",
    "        self.count = 0\n",
    "    def iterate(self):\n",
    "        current = self.tail\n",
    "        while current:\n",
    "            val = current.value\n",
    "            current = current.next\n",
    "            yield val\n",
    "    def append(self, value):\n",
    "        node = Node(value)\n",
    "        if self.head:\n",
    "            self.head.next = node\n",
    "            self.head = node\n",
    "        else:\n",
    "            self.tail = node\n",
    "            self.head = node\n",
    "        self.count += 1\n",
    "    def search(self,val):\n",
    "        for node in self.iterate():\n",
    "            if val == node:\n",
    "                return True\n",
    "            else:\n",
    "                return False\n",
    "    \n",
    "items = linked_list()\n",
    "items.append('php')\n",
    "items.append('python')\n",
    "items.append('bruh')\n",
    "\n",
    "for val in items.iterate():\n",
    "    print(val)"
   ]
  },
  {
   "cell_type": "code",
   "execution_count": null,
   "metadata": {},
   "outputs": [],
   "source": []
  }
 ],
 "metadata": {
  "kernelspec": {
   "display_name": "Python 3",
   "language": "python",
   "name": "python3"
  },
  "language_info": {
   "codemirror_mode": {
    "name": "ipython",
    "version": 3
   },
   "file_extension": ".py",
   "mimetype": "text/x-python",
   "name": "python",
   "nbconvert_exporter": "python",
   "pygments_lexer": "ipython3",
   "version": "3.7.4"
  }
 },
 "nbformat": 4,
 "nbformat_minor": 2
}
