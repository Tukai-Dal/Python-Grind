{
 "cells": [
  {
   "cell_type": "code",
   "execution_count": 1,
   "metadata": {},
   "outputs": [],
   "source": [
    "str1 = 'exterminate!' \n",
    "str2 = 'number one - the larch'"
   ]
  },
  {
   "cell_type": "code",
   "execution_count": 2,
   "metadata": {},
   "outputs": [
    {
     "data": {
      "text/plain": [
       "<function str.upper()>"
      ]
     },
     "execution_count": 2,
     "metadata": {},
     "output_type": "execute_result"
    }
   ],
   "source": [
    "str1.upper"
   ]
  },
  {
   "cell_type": "code",
   "execution_count": 3,
   "metadata": {},
   "outputs": [
    {
     "data": {
      "text/plain": [
       "'EXTERMINATE!'"
      ]
     },
     "execution_count": 3,
     "metadata": {},
     "output_type": "execute_result"
    }
   ],
   "source": [
    "str1.upper()"
   ]
  },
  {
   "cell_type": "code",
   "execution_count": 4,
   "metadata": {},
   "outputs": [],
   "source": [
    "str2 = str2.capitalize()"
   ]
  },
  {
   "cell_type": "code",
   "execution_count": 5,
   "metadata": {},
   "outputs": [
    {
     "data": {
      "text/plain": [
       "'Number one - the larch'"
      ]
     },
     "execution_count": 5,
     "metadata": {},
     "output_type": "execute_result"
    }
   ],
   "source": [
    "str2"
   ]
  },
  {
   "cell_type": "code",
   "execution_count": 7,
   "metadata": {},
   "outputs": [
    {
     "data": {
      "text/plain": [
       "'nUMBER ONE - THE LARCH'"
      ]
     },
     "execution_count": 7,
     "metadata": {},
     "output_type": "execute_result"
    }
   ],
   "source": [
    "str2.swapcase()"
   ]
  },
  {
   "cell_type": "code",
   "execution_count": 8,
   "metadata": {},
   "outputs": [
    {
     "data": {
      "text/plain": [
       "0"
      ]
     },
     "execution_count": 8,
     "metadata": {},
     "output_type": "execute_result"
    }
   ],
   "source": [
    "str1.index('e')"
   ]
  },
  {
   "cell_type": "code",
   "execution_count": 9,
   "metadata": {},
   "outputs": [
    {
     "data": {
      "text/plain": [
       "8"
      ]
     },
     "execution_count": 9,
     "metadata": {},
     "output_type": "execute_result"
    }
   ],
   "source": [
    "str2.index('n')"
   ]
  },
  {
   "cell_type": "code",
   "execution_count": 10,
   "metadata": {},
   "outputs": [
    {
     "data": {
      "text/plain": [
       "8"
      ]
     },
     "execution_count": 10,
     "metadata": {},
     "output_type": "execute_result"
    }
   ],
   "source": [
    "str2.find('n')"
   ]
  },
  {
   "cell_type": "code",
   "execution_count": 11,
   "metadata": {},
   "outputs": [
    {
     "ename": "ValueError",
     "evalue": "substring not found",
     "output_type": "error",
     "traceback": [
      "\u001b[1;31m---------------------------------------------------------------------------\u001b[0m",
      "\u001b[1;31mValueError\u001b[0m                                Traceback (most recent call last)",
      "\u001b[1;32m<ipython-input-11-dbd22adbb8d3>\u001b[0m in \u001b[0;36m<module>\u001b[1;34m\u001b[0m\n\u001b[1;32m----> 1\u001b[1;33m \u001b[0mstr2\u001b[0m\u001b[1;33m.\u001b[0m\u001b[0mindex\u001b[0m\u001b[1;33m(\u001b[0m\u001b[1;34m'!'\u001b[0m\u001b[1;33m)\u001b[0m\u001b[1;33m\u001b[0m\u001b[1;33m\u001b[0m\u001b[0m\n\u001b[0m",
      "\u001b[1;31mValueError\u001b[0m: substring not found"
     ]
    }
   ],
   "source": [
    "str2.index('!')"
   ]
  },
  {
   "cell_type": "code",
   "execution_count": 12,
   "metadata": {},
   "outputs": [
    {
     "data": {
      "text/plain": [
       "-1"
      ]
     },
     "execution_count": 12,
     "metadata": {},
     "output_type": "execute_result"
    }
   ],
   "source": [
    "str2.find('!')"
   ]
  },
  {
   "cell_type": "code",
   "execution_count": 13,
   "metadata": {},
   "outputs": [
    {
     "data": {
      "text/plain": [
       "3"
      ]
     },
     "execution_count": 13,
     "metadata": {},
     "output_type": "execute_result"
    }
   ],
   "source": [
    "str1.count('e')"
   ]
  },
  {
   "cell_type": "code",
   "execution_count": 14,
   "metadata": {},
   "outputs": [
    {
     "data": {
      "text/plain": [
       "'*xt*rminat*!'"
      ]
     },
     "execution_count": 14,
     "metadata": {},
     "output_type": "execute_result"
    }
   ],
   "source": [
    "str1 = str1.replace('e', '*')\n",
    "str1"
   ]
  },
  {
   "cell_type": "code",
   "execution_count": 16,
   "metadata": {},
   "outputs": [
    {
     "data": {
      "text/plain": [
       "'Number seven - the larch'"
      ]
     },
     "execution_count": 16,
     "metadata": {},
     "output_type": "execute_result"
    }
   ],
   "source": [
    "str2.replace('one', 'seven')"
   ]
  },
  {
   "cell_type": "markdown",
   "metadata": {},
   "source": [
    "Write a program that prints the number of times the string 'bob' occurs in s. For example, if s = 'azcbobobegghakl', then your program should print 'Number of times bob occurs is: 2'"
   ]
  },
  {
   "cell_type": "code",
   "execution_count": 34,
   "metadata": {},
   "outputs": [
    {
     "name": "stdout",
     "output_type": "stream",
     "text": [
      "2\n"
     ]
    }
   ],
   "source": [
    "s = 'azcbobobegghakl'\n",
    "sub = 'bob'\n",
    "count = 0\n",
    "\n",
    "for i in range(len(s)):\n",
    "    if(s[i:i+3] == sub):\n",
    "        count+= 1\n",
    "print(count)"
   ]
  },
  {
   "cell_type": "markdown",
   "metadata": {},
   "source": [
    "Write a program that prints the longest substring of s in which the letters occur in alphabetical order. For example, if s = 'azcbobobegghakl', then your program should print 'beggh'"
   ]
  },
  {
   "cell_type": "code",
   "execution_count": 59,
   "metadata": {},
   "outputs": [
    {
     "name": "stdout",
     "output_type": "stream",
     "text": [
      "abc_bcd\n",
      "abc\n"
     ]
    },
    {
     "data": {
      "text/plain": [
       "'abc'"
      ]
     },
     "execution_count": 59,
     "metadata": {},
     "output_type": "execute_result"
    }
   ],
   "source": [
    "alphabet = 'abcdefghijklmnopqrstuvwxyz'\n",
    "\n",
    "s='abcbcd'\n",
    "result = ''\n",
    "for i in range(len(s)):\n",
    "    if(s[i]!=s[len(s)-1]):\n",
    "        if(alphabet.index(s[i])<=alphabet.index(s[i+1])):\n",
    "            result+=s[i]\n",
    "        else:\n",
    "            result+=s[i]+'_'\n",
    "    else:\n",
    "        if(alphabet.index(s[i])>=alphabet.index(s[i-1])):\n",
    "            result+=s[i]\n",
    "print(result)    \n",
    "result = result.split('_')\n",
    "size = 0\n",
    "for i in result:\n",
    "    if(len(i)>size):\n",
    "        size = len(i)\n",
    "        substring = i\n",
    "print(substring)\n",
    "#or\n",
    "max(result, key=len)"
   ]
  },
  {
   "cell_type": "code",
   "execution_count": 69,
   "metadata": {},
   "outputs": [
    {
     "name": "stdout",
     "output_type": "stream",
     "text": [
      "Month 1\n",
      "Starting balance 4842\n",
      "Minimum payment 193.68\n",
      "Unpaid balance 4648.32\n",
      "Monthly interest 77.47\n",
      "Month 2\n",
      "Starting balance 4725.79\n",
      "Minimum payment 189.03\n",
      "Unpaid balance 4536.76\n",
      "Monthly interest 75.61\n",
      "Month 3\n",
      "Starting balance 4612.37\n",
      "Minimum payment 184.49\n",
      "Unpaid balance 4427.88\n",
      "Monthly interest 73.8\n",
      "Month 4\n",
      "Starting balance 4501.68\n",
      "Minimum payment 180.07\n",
      "Unpaid balance 4321.61\n",
      "Monthly interest 72.03\n",
      "Month 5\n",
      "Starting balance 4393.64\n",
      "Minimum payment 175.75\n",
      "Unpaid balance 4217.89\n",
      "Monthly interest 70.3\n",
      "Month 6\n",
      "Starting balance 4288.19\n",
      "Minimum payment 171.53\n",
      "Unpaid balance 4116.66\n",
      "Monthly interest 68.61\n",
      "Month 7\n",
      "Starting balance 4185.27\n",
      "Minimum payment 167.41\n",
      "Unpaid balance 4017.86\n",
      "Monthly interest 66.96\n",
      "Month 8\n",
      "Starting balance 4084.82\n",
      "Minimum payment 163.39\n",
      "Unpaid balance 3921.43\n",
      "Monthly interest 65.36\n",
      "Month 9\n",
      "Starting balance 3986.79\n",
      "Minimum payment 159.47\n",
      "Unpaid balance 3827.32\n",
      "Monthly interest 63.79\n",
      "Month 10\n",
      "Starting balance 3891.11\n",
      "Minimum payment 155.64\n",
      "Unpaid balance 3735.47\n",
      "Monthly interest 62.26\n",
      "Month 11\n",
      "Starting balance 3797.73\n",
      "Minimum payment 151.91\n",
      "Unpaid balance 3645.82\n",
      "Monthly interest 60.76\n",
      "Month 12\n",
      "Starting balance 3706.58\n",
      "Minimum payment 148.26\n",
      "Unpaid balance 3558.32\n",
      "Monthly interest 59.31\n",
      "Total paid 2040.63\n"
     ]
    }
   ],
   "source": [
    "balance = 4842\n",
    "total = 0\n",
    "for i in range(1,13):\n",
    "    print(\"Month \"+str(i))\n",
    "    print(\"Starting balance \"+str(balance))\n",
    "    minimum = round(balance*0.04,2)\n",
    "    total+=minimum\n",
    "    print(\"Minimum payment \"+str(minimum))\n",
    "    unpaid = round(balance - minimum,2)\n",
    "    print(\"Unpaid balance \"+ str(unpaid))\n",
    "    interest = round((0.2/12)*unpaid,2)\n",
    "    print(\"Monthly interest \"+str(interest))\n",
    "    balance = round(unpaid + interest,2)\n",
    "    \n",
    "print(\"Total paid \"+str(total))"
   ]
  },
  {
   "cell_type": "code",
   "execution_count": 72,
   "metadata": {},
   "outputs": [
    {
     "name": "stdout",
     "output_type": "stream",
     "text": [
      "Month 1\n",
      "Starting balance 3329\n",
      "Monthly interest 55.48\n",
      "Month 2\n",
      "Starting balance 3384.48\n",
      "Monthly interest 56.41\n",
      "Month 3\n",
      "Starting balance 3440.89\n",
      "Monthly interest 57.35\n",
      "Month 4\n",
      "Starting balance 3498.24\n",
      "Monthly interest 58.3\n",
      "Month 5\n",
      "Starting balance 3556.54\n",
      "Monthly interest 59.28\n",
      "Month 6\n",
      "Starting balance 3615.82\n",
      "Monthly interest 60.26\n",
      "Month 7\n",
      "Starting balance 3676.08\n",
      "Monthly interest 61.27\n",
      "Month 8\n",
      "Starting balance 3737.35\n",
      "Monthly interest 62.29\n",
      "Month 9\n",
      "Starting balance 3799.64\n",
      "Monthly interest 63.33\n",
      "Month 10\n",
      "Starting balance 3862.97\n",
      "Monthly interest 64.38\n",
      "Month 11\n",
      "Starting balance 3927.35\n",
      "Monthly interest 65.46\n",
      "Month 12\n",
      "Starting balance 3992.81\n",
      "Monthly interest 66.55\n",
      "Total balance to be paid 4059.36\n",
      "minimum monthly payment 338.28\n"
     ]
    }
   ],
   "source": [
    "balance = 3329\n",
    "total = 0\n",
    "for i in range(1,13):\n",
    "    print(\"Month \"+str(i))\n",
    "    print(\"Starting balance \"+str(balance))\n",
    "    interest = round((0.2/12)*balance,2)\n",
    "    print(\"Monthly interest \"+str(interest))\n",
    "    balance = round(balance + interest,2)\n",
    "    \n",
    "print(\"Total balance to be paid \"+str(balance))\n",
    "print(\"minimum monthly payment \"+str(round(balance/12,2)))"
   ]
  },
  {
   "cell_type": "code",
   "execution_count": null,
   "metadata": {},
   "outputs": [],
   "source": []
  }
 ],
 "metadata": {
  "kernelspec": {
   "display_name": "Python 3",
   "language": "python",
   "name": "python3"
  },
  "language_info": {
   "codemirror_mode": {
    "name": "ipython",
    "version": 3
   },
   "file_extension": ".py",
   "mimetype": "text/x-python",
   "name": "python",
   "nbconvert_exporter": "python",
   "pygments_lexer": "ipython3",
   "version": "3.7.4"
  }
 },
 "nbformat": 4,
 "nbformat_minor": 2
}
