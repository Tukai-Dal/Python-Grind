{
 "cells": [
  {
   "cell_type": "markdown",
   "metadata": {},
   "source": [
    "Graph: Set of nodes connected by a set of edges\n",
    "Directed graph: if edges are unidirectional\n",
    "Weighted graph: weights or costs associated with edges\n",
    "\n",
    "Shortest path: shortest sequence of edges to get from Src to Dest\n",
    "Shortest weighted path: minimum weight of edges required to get from Src to Dest\n",
    "Clique: Find a set of nodes such that there is a path in the graph between each pair of nodes \n",
    "Min cut: Cut is set of edges removal eliminates all paths from every node from one set of nodes to the other set of nodes"
   ]
  },
  {
   "cell_type": "code",
   "execution_count": 7,
   "metadata": {},
   "outputs": [],
   "source": [
    "class Node(object):\n",
    "    def __init__(self, name):\n",
    "        self.name = name\n",
    "    def getName(self):\n",
    "        return self.name\n",
    "    def __str__(self):\n",
    "        return self.name\n",
    "\n",
    "class Edge(object):\n",
    "    def __init__(self, src, dest):\n",
    "        self.src = src\n",
    "        self.dest = dest\n",
    "    def getSrc(self):\n",
    "        return self.src\n",
    "    def getDest(self):\n",
    "        return self.dest\n",
    "    def __str__(self):\n",
    "        return str(self.src)+\"---->\"+str(self.dest)\n",
    "\n",
    "class Weightedge(Edge):\n",
    "    def __init__(self, src, dest, weight = 1.0):\n",
    "        self.src = src\n",
    "        self.dest = dest\n",
    "        self.weight = weight\n",
    "    def getWeight(self):\n",
    "        return self.weight\n",
    "    def __str__(self):\n",
    "        return str(self.src)+\"--\"+str(self.weight)+\"-->\"+str(self.dest)\n",
    "    \n",
    "class Digraph(object):\n",
    "    def __init__(self):\n",
    "        self.nodes = set([]) #a collection of objects such that no duplicates exist\n",
    "        self.edges = {} #adjacency list\n",
    "    def addNode(self, node):\n",
    "        if node in self.nodes:\n",
    "            raise ValueError(\"Duplicate Node\")\n",
    "        else:\n",
    "            self.nodes.add(node) #add is a set operation\n",
    "            self.edges[node] = []\n",
    "    def addEdge(self, edge):\n",
    "        src = edge.getSrc()\n",
    "        dest = edge.getDest()\n",
    "        if not(src in self.nodes and dest in self.nodes):\n",
    "            raise ValueError(\"Node not in Graph\")\n",
    "        self.edges[src].append(dest)\n",
    "    def childrenOf(self, node):\n",
    "        return self.edges[node]\n",
    "    def hasNode(self, node):\n",
    "        return node in self.nodes\n",
    "    def __str__(self):\n",
    "        res = \"\"\n",
    "        for k in self.edges:\n",
    "            for d in self.edges[k]:\n",
    "                res = res + str(k) + '---->' + str(d) + '\\n'\n",
    "        return res[:-1]\n",
    "\n",
    "class Graph(Digraph):\n",
    "    def addEdge(self, edge):\n",
    "        Digraph.addEdge(self, edge)\n",
    "        rev = Edge(edge.getDest(), edge.getSrc())\n",
    "        Digraph.addEdge(self, rev)"
   ]
  },
  {
   "cell_type": "code",
   "execution_count": 8,
   "metadata": {},
   "outputs": [],
   "source": [
    "def testGraph():\n",
    "    nodes = []\n",
    "    for name in range(6):\n",
    "        nodes.append(Node(str(name)))\n",
    "    g = Digraph()\n",
    "    for n in nodes:\n",
    "        g.addNode(n)\n",
    "    g.addEdge(Edge(node[0],node[1]))\n",
    "    g.addEdge(Edge(node[1],node[2]))\n",
    "    g.addEdge(Edge(node[2],node[3]))\n",
    "    g.addEdge(Edge(node[2],node[4]))\n",
    "    g.addEdge(Edge(node[3],node[4]))\n",
    "    g.addEdge(Edge(node[3],node[5]))\n",
    "    g.addEdge(Edge(node[0],node[2]))\n",
    "    g.addEdge(Edge(node[1],node[0]))\n",
    "    g.addEdge(Edge(node[3],node[1]))\n",
    "    g.addEdge(Edge(node[4],node[0]))"
   ]
  },
  {
   "cell_type": "markdown",
   "metadata": {},
   "source": [
    "# DFS: Traverses by not visiting node already on the path"
   ]
  },
  {
   "cell_type": "code",
   "execution_count": 15,
   "metadata": {},
   "outputs": [],
   "source": [
    "def DFS(graph, start, end, path=[]):\n",
    "    path = path + [start]\n",
    "    print('current dfs path: '+ printPath(path))\n",
    "    if start == end:\n",
    "        return path\n",
    "    for node in graph.childrenOf(start):\n",
    "        if node not in path:\n",
    "            newpath = DFS(graph, node, end, path)\n",
    "            if newpath!= None:\n",
    "                return newpath\n",
    "        return None"
   ]
  },
  {
   "cell_type": "code",
   "execution_count": 1,
   "metadata": {},
   "outputs": [],
   "source": []
  },
  {
   "cell_type": "code",
   "execution_count": 5,
   "metadata": {},
   "outputs": [],
   "source": []
  },
  {
   "cell_type": "code",
   "execution_count": 6,
   "metadata": {},
   "outputs": [
    {
     "data": {
      "text/plain": [
       "' 35  '"
      ]
     },
     "execution_count": 6,
     "metadata": {},
     "output_type": "execute_result"
    }
   ],
   "source": []
  },
  {
   "cell_type": "code",
   "execution_count": null,
   "metadata": {},
   "outputs": [],
   "source": []
  }
 ],
 "metadata": {
  "kernelspec": {
   "display_name": "Python 3",
   "language": "python",
   "name": "python3"
  },
  "language_info": {
   "codemirror_mode": {
    "name": "ipython",
    "version": 3
   },
   "file_extension": ".py",
   "mimetype": "text/x-python",
   "name": "python",
   "nbconvert_exporter": "python",
   "pygments_lexer": "ipython3",
   "version": "3.7.4"
  }
 },
 "nbformat": 4,
 "nbformat_minor": 2
}
