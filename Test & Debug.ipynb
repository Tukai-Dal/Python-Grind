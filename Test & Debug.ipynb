{
 "cells": [
  {
   "cell_type": "markdown",
   "metadata": {},
   "source": [
    "black-box testing: Use heuristics based on exploring paths through the specifications. Code is in black box, we don't see inside it when designing test suites. Prevents bias.\n",
    "\n",
    "glass-box testing: Use heuristics based on exploring paths through the code.One way is path complete - testing all of the possible paths in the code.\n",
    "\n",
    "Exercise both branches of all if statements\n",
    "Ensure each except clause is included\n",
    "For each for loop:\n",
    "    check if loop is not entered\n",
    "    check if body of loop executed exactly once\n",
    "    check if body of loop executed more than once\n",
    "For recursive functions\n",
    "    check if no recursive call\n",
    "    check if one recursive call\n",
    "    check if no recursive call\n",
    "    \n",
    "Unit testing: check modules -> integration testing: whole thing testing, function interactions -> regression testing: go back and check that program passes all the tests it used to after the fix\n",
    "Test drivers and stubs: Drivers - Predefined set of inputs\n",
    "                        Stubs - test code haven't written yet\n",
    "                     \n",
    "Debugging: Overt- obvious manifestation as code crash, infinite loops\n",
    "           Covert - Hidden errors, function returns value but sometimes incorrect\n",
    "      \n",
    "Exceptions: 'a'/4, opening file\n",
    "\n",
    "try-except\n",
    "\n",
    "SyntaxError\n",
    "NameError\n",
    "AttributeError\n",
    "TypeError\n",
    "ValueError\n",
    "IOError"
   ]
  },
  {
   "cell_type": "code",
   "execution_count": 43,
   "metadata": {},
   "outputs": [],
   "source": [
    "def division(x,y):\n",
    "    try:\n",
    "        result = x/y\n",
    "    except ZeroDivisionError as e:\n",
    "        print (str(e)+' occured')\n",
    "    except TypeError as f:\n",
    "        print(str(f)+' occured')\n",
    "    else:\n",
    "        print('result is '+result)\n",
    "    finally:\n",
    "        print('final statement')"
   ]
  },
  {
   "cell_type": "code",
   "execution_count": 44,
   "metadata": {},
   "outputs": [
    {
     "name": "stdout",
     "output_type": "stream",
     "text": [
      "unsupported operand type(s) for /: 'int' and 'str' occured\n",
      "final statement\n"
     ]
    }
   ],
   "source": [
    "division(4,'a')"
   ]
  },
  {
   "cell_type": "code",
   "execution_count": 45,
   "metadata": {},
   "outputs": [
    {
     "name": "stdout",
     "output_type": "stream",
     "text": [
      "division by zero occured\n",
      "final statement\n"
     ]
    }
   ],
   "source": [
    "division(4,0)"
   ]
  },
  {
   "cell_type": "markdown",
   "metadata": {},
   "source": [
    "Assertions: Defensive programming\n",
    "\n",
    "assert 0.0<=result<=100.0"
   ]
  },
  {
   "cell_type": "code",
   "execution_count": null,
   "metadata": {},
   "outputs": [],
   "source": []
  }
 ],
 "metadata": {
  "kernelspec": {
   "display_name": "Python 3",
   "language": "python",
   "name": "python3"
  },
  "language_info": {
   "codemirror_mode": {
    "name": "ipython",
    "version": 3
   },
   "file_extension": ".py",
   "mimetype": "text/x-python",
   "name": "python",
   "nbconvert_exporter": "python",
   "pygments_lexer": "ipython3",
   "version": "3.7.4"
  }
 },
 "nbformat": 4,
 "nbformat_minor": 2
}
