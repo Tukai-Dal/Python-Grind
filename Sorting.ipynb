{
 "cells": [
  {
   "cell_type": "markdown",
   "metadata": {},
   "source": [
    "# Selection Sort:"
   ]
  },
  {
   "cell_type": "raw",
   "metadata": {},
   "source": [
    "# Find smallest element on the list and [swap] it with the first element. Repeat the process and [swap] it with the second element and so on"
   ]
  },
  {
   "cell_type": "code",
   "execution_count": 8,
   "metadata": {},
   "outputs": [],
   "source": [
    "def selSort(L):\n",
    "    if not L:\n",
    "        print(\"list empty\")\n",
    "    else:\n",
    "        for i in range(len(L)-1):\n",
    "            small_index = i\n",
    "            small_val = L[i]\n",
    "            j = i+1\n",
    "            while (j<len(L)):\n",
    "                if small_val>L[j]:\n",
    "                    small_index = j\n",
    "                    small_val = L[j]\n",
    "                j+=1\n",
    "            temp = L[i]\n",
    "            L[i] = small_val\n",
    "            L[small_index] = temp\n",
    "    return L\n",
    "                    \n",
    "    "
   ]
  },
  {
   "cell_type": "code",
   "execution_count": 9,
   "metadata": {},
   "outputs": [
    {
     "data": {
      "text/plain": [
       "[1, 2, 3, 4, 5, 7, 8]"
      ]
     },
     "execution_count": 9,
     "metadata": {},
     "output_type": "execute_result"
    }
   ],
   "source": [
    "selSort([4,2,5,8,1,3,7])"
   ]
  },
  {
   "cell_type": "markdown",
   "metadata": {},
   "source": [
    "Amortize - Spread out a big cost over a period of time. O(1)>O(logn)>O(n)>O(nlogn)>O(n^c)>O(c^n)"
   ]
  },
  {
   "cell_type": "markdown",
   "metadata": {},
   "source": [
    "# Merge Sort"
   ]
  },
  {
   "cell_type": "markdown",
   "metadata": {},
   "source": [
    "#We are going to split the list into smaller and smaller until we get sub lists of one element each. Then recursively we are going to merge it all. Taking two sorted list and looking at first elements of each to decide which one goes to the resulting list.\n",
    "\n",
    "Two functions. One to compare and merge, and another for recursive calls of merge sorting.\n",
    "    "
   ]
  },
  {
   "cell_type": "code",
   "execution_count": 1,
   "metadata": {},
   "outputs": [],
   "source": [
    "import operator\n",
    "def merge(left, right, compare):\n",
    "    i = 0\n",
    "    j = 0\n",
    "    result = []\n",
    "    while i<len(left) and j<len(right):\n",
    "        if (compare(left[i],right[j])):\n",
    "            result.append(left[i])\n",
    "            i+=1\n",
    "        else:\n",
    "            result.append(right[j])\n",
    "            j+=1\n",
    "    while(i<len(left)):\n",
    "        result.append(left[i])\n",
    "        i+=1\n",
    "    while(j<len(right)):\n",
    "        result.append(right[j])\n",
    "        j+=1\n",
    "    return result\n",
    "\n",
    "def mergeSort(L,compare = operator.lt):\n",
    "    mid = int(len(L)/2)\n",
    "    if(len(L)<2):\n",
    "        return (L[:])\n",
    "    else:\n",
    "        left = mergeSort(L[:mid],compare)\n",
    "        right = mergeSort(L[mid:],compare)\n",
    "        return merge(left, right, compare)\n",
    "    "
   ]
  },
  {
   "cell_type": "code",
   "execution_count": 3,
   "metadata": {},
   "outputs": [
    {
     "data": {
      "text/plain": [
       "[2, 4, 6, 6, 6, 7, 8, 9, 10, 23]"
      ]
     },
     "execution_count": 3,
     "metadata": {},
     "output_type": "execute_result"
    }
   ],
   "source": [
    "mergeSort([23,2,6,4,10,6,6,7,8,9])"
   ]
  },
  {
   "cell_type": "code",
   "execution_count": 5,
   "metadata": {},
   "outputs": [
    {
     "data": {
      "text/plain": [
       "[3]"
      ]
     },
     "execution_count": 5,
     "metadata": {},
     "output_type": "execute_result"
    }
   ],
   "source": [
    "mergeSort([3])"
   ]
  },
  {
   "cell_type": "code",
   "execution_count": null,
   "metadata": {},
   "outputs": [],
   "source": []
  }
 ],
 "metadata": {
  "kernelspec": {
   "display_name": "Python 3",
   "language": "python",
   "name": "python3"
  },
  "language_info": {
   "codemirror_mode": {
    "name": "ipython",
    "version": 3
   },
   "file_extension": ".py",
   "mimetype": "text/x-python",
   "name": "python",
   "nbconvert_exporter": "python",
   "pygments_lexer": "ipython3",
   "version": "3.7.4"
  }
 },
 "nbformat": 4,
 "nbformat_minor": 2
}
