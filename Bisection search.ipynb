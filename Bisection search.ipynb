{
 "cells": [
  {
   "cell_type": "code",
   "execution_count": 1,
   "metadata": {},
   "outputs": [
    {
     "name": "stdout",
     "output_type": "stream",
     "text": [
      "is 50 your guess? enter l for the guess is too low, h for guess is too high, c for correct guess\n",
      "l\n",
      "is 75 your guess? enter l for the guess is too low, h for guess is too high, c for correct guess\n",
      "l\n",
      "is 87 your guess? enter l for the guess is too low, h for guess is too high, c for correct guess\n",
      "h\n",
      "is 81 your guess? enter l for the guess is too low, h for guess is too high, c for correct guess\n",
      "l\n",
      "is 84 your guess? enter l for the guess is too low, h for guess is too high, c for correct guess\n",
      "h\n",
      "is 82 your guess? enter l for the guess is too low, h for guess is too high, c for correct guess\n",
      "l\n",
      "is 83 your guess? enter l for the guess is too low, h for guess is too high, c for correct guess\n",
      "c\n",
      "your number is 83\n"
     ]
    }
   ],
   "source": [
    "low = 0\n",
    "high = 100\n",
    "mid = int((low + high)/2)\n",
    "\n",
    "while(low<=high):\n",
    "    x=input('is '+str(mid)+ ' your guess? enter l for the guess is too low, h for guess is too high, c for correct guess\\n')\n",
    "    if (x == 'c'):\n",
    "        print('your number is '+str(mid))\n",
    "        break\n",
    "    elif (x == 'l'):\n",
    "        low = mid\n",
    "    elif (x == 'h'):\n",
    "        high = mid\n",
    "    else:\n",
    "        print('retarded choice bruh')\n",
    "    mid = int((low + high)/2)\n",
    "    "
   ]
  },
  {
   "cell_type": "code",
   "execution_count": null,
   "metadata": {},
   "outputs": [],
   "source": []
  }
 ],
 "metadata": {
  "kernelspec": {
   "display_name": "Python 3",
   "language": "python",
   "name": "python3"
  },
  "language_info": {
   "codemirror_mode": {
    "name": "ipython",
    "version": 3
   },
   "file_extension": ".py",
   "mimetype": "text/x-python",
   "name": "python",
   "nbconvert_exporter": "python",
   "pygments_lexer": "ipython3",
   "version": "3.7.4"
  }
 },
 "nbformat": 4,
 "nbformat_minor": 2
}
